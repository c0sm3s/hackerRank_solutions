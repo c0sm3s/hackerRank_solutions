{
 "cells": [
  {
   "cell_type": "code",
   "execution_count": 9,
   "metadata": {},
   "outputs": [
    {
     "name": "stdout",
     "output_type": "stream",
     "text": [
      "[1, 1, 1, 1, 2, 2, 2, 2, 2, 2, 3, 3, 3, 4, 5, 5, 5, 5] Counter({2: 6, 1: 4, 0: 4, 3: 3, 4: 1})\n",
      "True\n",
      "None\n"
     ]
    }
   ],
   "source": [
    "from collections import Counter\n",
    "def nonDivisibleSubset(k, s):\n",
    "    # Write your code here\n",
    "    s3 = [(i%k) if i%k != 0 else k for i in s]\n",
    "    s3 = sorted(s3)\n",
    "    c = Counter([ss % k for ss in s])\n",
    "    print(s3, c)\n",
    "    print(0 in c)\n",
    "\n",
    "kk = 5\n",
    "ss = [16,2,7,5,10,3,6]\n",
    "ss = [1,7,2,4] # k = 3, 3\n",
    "ss = [5,0,5] # k = 5, 1\n",
    "ss = [16,67,3,4,0,9] # k = 4, 3\n",
    "ss = [14,7,3,90,26,4]\n",
    "\n",
    "ss = [19,10,12,24,25,22] # k = 4, 3\n",
    "ss = [3,6,9,68] # k = 4, 3\n",
    "ss = [2,10,13,17,21,9] # k = 5, 4\n",
    "ss = [3,7,9,2,45,55,15,855,234905,0,6,67] # k = 5, 5\n",
    "ss = [45,55,15,855,234905] # k = 5, 1\n",
    "\n",
    "ss = [2,7,2,6,23,67,35,754,12,235,2235,843,23,346,2,6346,2235,646]\n",
    "\n",
    "\n",
    "print(nonDivisibleSubset(kk, ss))"
   ]
  }
 ],
 "metadata": {
  "kernelspec": {
   "display_name": "Python 3.10.0 64-bit",
   "language": "python",
   "name": "python3"
  },
  "language_info": {
   "codemirror_mode": {
    "name": "ipython",
    "version": 3
   },
   "file_extension": ".py",
   "mimetype": "text/x-python",
   "name": "python",
   "nbconvert_exporter": "python",
   "pygments_lexer": "ipython3",
   "version": "3.10.0"
  },
  "orig_nbformat": 4,
  "vscode": {
   "interpreter": {
    "hash": "e8a00227fbbeabfee3e4c7eae78ea7efab3aaaa5b33f3ff28071daefabaeab66"
   }
  }
 },
 "nbformat": 4,
 "nbformat_minor": 2
}
